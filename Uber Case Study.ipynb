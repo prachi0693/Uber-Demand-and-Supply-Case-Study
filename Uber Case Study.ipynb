{
 "cells": [
  {
   "cell_type": "markdown",
   "metadata": {},
   "source": [
    "#### Uber Demand and Supply Case Study"
   ]
  },
  {
   "cell_type": "markdown",
   "metadata": {},
   "source": [
    "An analytical approach to solving the demand and supply gap because of driver cancellation and non-availability of cars. Analysis of the root-causes and possible hypotheses of the problems and recommended ways to tackle them."
   ]
  },
  {
   "cell_type": "code",
   "execution_count": 266,
   "metadata": {},
   "outputs": [],
   "source": [
    "# Supress Warnings\n",
    "import warnings\n",
    "warnings.filterwarnings('ignore')"
   ]
  },
  {
   "cell_type": "code",
   "execution_count": 267,
   "metadata": {},
   "outputs": [],
   "source": [
    "# Import the numpy, pandas and matplotlib packages\n",
    "\n",
    "import numpy as np\n",
    "import pandas as pd\n",
    "import matplotlib.pyplot as plt"
   ]
  },
  {
   "cell_type": "markdown",
   "metadata": {},
   "source": [
    "###### Step 1: Reading and Inspection"
   ]
  },
  {
   "cell_type": "code",
   "execution_count": 268,
   "metadata": {},
   "outputs": [],
   "source": [
    "#Importing the csv file Uber Request Data.csv\n",
    "uber_df=pd.read_csv(\"Uber Request Data.csv\")\n"
   ]
  },
  {
   "cell_type": "code",
   "execution_count": 269,
   "metadata": {},
   "outputs": [
    {
     "data": {
      "text/html": [
       "<div>\n",
       "<style scoped>\n",
       "    .dataframe tbody tr th:only-of-type {\n",
       "        vertical-align: middle;\n",
       "    }\n",
       "\n",
       "    .dataframe tbody tr th {\n",
       "        vertical-align: top;\n",
       "    }\n",
       "\n",
       "    .dataframe thead th {\n",
       "        text-align: right;\n",
       "    }\n",
       "</style>\n",
       "<table border=\"1\" class=\"dataframe\">\n",
       "  <thead>\n",
       "    <tr style=\"text-align: right;\">\n",
       "      <th></th>\n",
       "      <th>Request id</th>\n",
       "      <th>Pickup point</th>\n",
       "      <th>Driver id</th>\n",
       "      <th>Status</th>\n",
       "      <th>Request timestamp</th>\n",
       "      <th>Drop timestamp</th>\n",
       "    </tr>\n",
       "  </thead>\n",
       "  <tbody>\n",
       "    <tr>\n",
       "      <th>0</th>\n",
       "      <td>619</td>\n",
       "      <td>Airport</td>\n",
       "      <td>1.0</td>\n",
       "      <td>Trip Completed</td>\n",
       "      <td>11/7/2016 11:51</td>\n",
       "      <td>11/7/2016 13:00</td>\n",
       "    </tr>\n",
       "    <tr>\n",
       "      <th>1</th>\n",
       "      <td>867</td>\n",
       "      <td>Airport</td>\n",
       "      <td>1.0</td>\n",
       "      <td>Trip Completed</td>\n",
       "      <td>11/7/2016 17:57</td>\n",
       "      <td>11/7/2016 18:47</td>\n",
       "    </tr>\n",
       "    <tr>\n",
       "      <th>2</th>\n",
       "      <td>1807</td>\n",
       "      <td>City</td>\n",
       "      <td>1.0</td>\n",
       "      <td>Trip Completed</td>\n",
       "      <td>12/7/2016 9:17</td>\n",
       "      <td>12/7/2016 9:58</td>\n",
       "    </tr>\n",
       "    <tr>\n",
       "      <th>3</th>\n",
       "      <td>2532</td>\n",
       "      <td>Airport</td>\n",
       "      <td>1.0</td>\n",
       "      <td>Trip Completed</td>\n",
       "      <td>12/7/2016 21:08</td>\n",
       "      <td>12/7/2016 22:03</td>\n",
       "    </tr>\n",
       "    <tr>\n",
       "      <th>4</th>\n",
       "      <td>3112</td>\n",
       "      <td>City</td>\n",
       "      <td>1.0</td>\n",
       "      <td>Trip Completed</td>\n",
       "      <td>13-07-2016 08:33:16</td>\n",
       "      <td>13-07-2016 09:25:47</td>\n",
       "    </tr>\n",
       "    <tr>\n",
       "      <th>5</th>\n",
       "      <td>3879</td>\n",
       "      <td>Airport</td>\n",
       "      <td>1.0</td>\n",
       "      <td>Trip Completed</td>\n",
       "      <td>13-07-2016 21:57:28</td>\n",
       "      <td>13-07-2016 22:28:59</td>\n",
       "    </tr>\n",
       "    <tr>\n",
       "      <th>6</th>\n",
       "      <td>4270</td>\n",
       "      <td>Airport</td>\n",
       "      <td>1.0</td>\n",
       "      <td>Trip Completed</td>\n",
       "      <td>14-07-2016 06:15:32</td>\n",
       "      <td>14-07-2016 07:13:15</td>\n",
       "    </tr>\n",
       "    <tr>\n",
       "      <th>7</th>\n",
       "      <td>5510</td>\n",
       "      <td>Airport</td>\n",
       "      <td>1.0</td>\n",
       "      <td>Trip Completed</td>\n",
       "      <td>15-07-2016 05:11:52</td>\n",
       "      <td>15-07-2016 06:07:52</td>\n",
       "    </tr>\n",
       "    <tr>\n",
       "      <th>8</th>\n",
       "      <td>6248</td>\n",
       "      <td>City</td>\n",
       "      <td>1.0</td>\n",
       "      <td>Trip Completed</td>\n",
       "      <td>15-07-2016 17:57:27</td>\n",
       "      <td>15-07-2016 18:50:51</td>\n",
       "    </tr>\n",
       "    <tr>\n",
       "      <th>9</th>\n",
       "      <td>267</td>\n",
       "      <td>City</td>\n",
       "      <td>2.0</td>\n",
       "      <td>Trip Completed</td>\n",
       "      <td>11/7/2016 6:46</td>\n",
       "      <td>11/7/2016 7:25</td>\n",
       "    </tr>\n",
       "  </tbody>\n",
       "</table>\n",
       "</div>"
      ],
      "text/plain": [
       "   Request id Pickup point  Driver id          Status    Request timestamp  \\\n",
       "0         619      Airport        1.0  Trip Completed      11/7/2016 11:51   \n",
       "1         867      Airport        1.0  Trip Completed      11/7/2016 17:57   \n",
       "2        1807         City        1.0  Trip Completed       12/7/2016 9:17   \n",
       "3        2532      Airport        1.0  Trip Completed      12/7/2016 21:08   \n",
       "4        3112         City        1.0  Trip Completed  13-07-2016 08:33:16   \n",
       "5        3879      Airport        1.0  Trip Completed  13-07-2016 21:57:28   \n",
       "6        4270      Airport        1.0  Trip Completed  14-07-2016 06:15:32   \n",
       "7        5510      Airport        1.0  Trip Completed  15-07-2016 05:11:52   \n",
       "8        6248         City        1.0  Trip Completed  15-07-2016 17:57:27   \n",
       "9         267         City        2.0  Trip Completed       11/7/2016 6:46   \n",
       "\n",
       "        Drop timestamp  \n",
       "0      11/7/2016 13:00  \n",
       "1      11/7/2016 18:47  \n",
       "2       12/7/2016 9:58  \n",
       "3      12/7/2016 22:03  \n",
       "4  13-07-2016 09:25:47  \n",
       "5  13-07-2016 22:28:59  \n",
       "6  14-07-2016 07:13:15  \n",
       "7  15-07-2016 06:07:52  \n",
       "8  15-07-2016 18:50:51  \n",
       "9       11/7/2016 7:25  "
      ]
     },
     "execution_count": 269,
     "metadata": {},
     "output_type": "execute_result"
    }
   ],
   "source": [
    "#Inspecting the data\n",
    "uber_df.head(10)"
   ]
  },
  {
   "cell_type": "code",
   "execution_count": 270,
   "metadata": {},
   "outputs": [
    {
     "data": {
      "text/plain": [
       "(6745, 6)"
      ]
     },
     "execution_count": 270,
     "metadata": {},
     "output_type": "execute_result"
    }
   ],
   "source": [
    "uber_df.shape"
   ]
  },
  {
   "cell_type": "code",
   "execution_count": 271,
   "metadata": {},
   "outputs": [
    {
     "data": {
      "text/plain": [
       "Index(['Request id', 'Pickup point', 'Driver id', 'Status',\n",
       "       'Request timestamp', 'Drop timestamp'],\n",
       "      dtype='object')"
      ]
     },
     "execution_count": 271,
     "metadata": {},
     "output_type": "execute_result"
    }
   ],
   "source": [
    "uber_df.columns\n",
    "# We see column names have spaces in their name; Renaming for efficient coding."
   ]
  },
  {
   "cell_type": "code",
   "execution_count": 272,
   "metadata": {},
   "outputs": [],
   "source": [
    "# We see column names have spaces in their name; Renaming for efficient coding\n",
    "uber_df = uber_df.rename(columns={'Request id': 'Request_id', 'Pickup point': 'Pickup_point', 'Driver id' : 'Driver_id', 'Request timestamp' : 'Request_timestamp', 'Drop timestamp':'Drop_timestamp'})"
   ]
  },
  {
   "cell_type": "code",
   "execution_count": 273,
   "metadata": {},
   "outputs": [
    {
     "data": {
      "text/plain": [
       "Index(['Request_id', 'Pickup_point', 'Driver_id', 'Status',\n",
       "       'Request_timestamp', 'Drop_timestamp'],\n",
       "      dtype='object')"
      ]
     },
     "execution_count": 273,
     "metadata": {},
     "output_type": "execute_result"
    }
   ],
   "source": [
    "uber_df.columns"
   ]
  },
  {
   "cell_type": "markdown",
   "metadata": {},
   "source": [
    "###### Step 2: Data Cleaning and Missing Values analysis"
   ]
  },
  {
   "cell_type": "code",
   "execution_count": 274,
   "metadata": {},
   "outputs": [
    {
     "name": "stdout",
     "output_type": "stream",
     "text": [
      "<class 'pandas.core.frame.DataFrame'>\n"
     ]
    }
   ],
   "source": [
    "print(type(uber_df))"
   ]
  },
  {
   "cell_type": "code",
   "execution_count": 275,
   "metadata": {
    "scrolled": true
   },
   "outputs": [
    {
     "data": {
      "text/plain": [
       "Request_id              0\n",
       "Pickup_point            0\n",
       "Driver_id            2650\n",
       "Status                  0\n",
       "Request_timestamp       0\n",
       "Drop_timestamp       3914\n",
       "dtype: int64"
      ]
     },
     "execution_count": 275,
     "metadata": {},
     "output_type": "execute_result"
    }
   ],
   "source": [
    "#Finding the number of null values in each column of the given dataset\n",
    "uber_df.isnull().sum()"
   ]
  },
  {
   "cell_type": "code",
   "execution_count": 276,
   "metadata": {},
   "outputs": [
    {
     "data": {
      "text/plain": [
       "0       0\n",
       "1       0\n",
       "2       0\n",
       "3       0\n",
       "4       0\n",
       "5       0\n",
       "6       0\n",
       "7       0\n",
       "8       0\n",
       "9       0\n",
       "10      0\n",
       "11      0\n",
       "12      0\n",
       "13      0\n",
       "14      0\n",
       "15      0\n",
       "16      0\n",
       "17      0\n",
       "18      0\n",
       "19      0\n",
       "20      0\n",
       "21      0\n",
       "22      0\n",
       "23      0\n",
       "24      0\n",
       "25      0\n",
       "26      0\n",
       "27      0\n",
       "28      0\n",
       "29      0\n",
       "       ..\n",
       "6715    2\n",
       "6716    2\n",
       "6717    2\n",
       "6718    2\n",
       "6719    2\n",
       "6720    2\n",
       "6721    2\n",
       "6722    2\n",
       "6723    2\n",
       "6724    2\n",
       "6725    2\n",
       "6726    2\n",
       "6727    2\n",
       "6728    2\n",
       "6729    2\n",
       "6730    2\n",
       "6731    2\n",
       "6732    2\n",
       "6733    2\n",
       "6734    2\n",
       "6735    2\n",
       "6736    2\n",
       "6737    2\n",
       "6738    2\n",
       "6739    2\n",
       "6740    2\n",
       "6741    2\n",
       "6742    2\n",
       "6743    2\n",
       "6744    2\n",
       "Length: 6745, dtype: int64"
      ]
     },
     "execution_count": 276,
     "metadata": {},
     "output_type": "execute_result"
    }
   ],
   "source": [
    "#Finding the number of null values in each row of the given dataset\n",
    "uber_df.isnull().sum(axis=1)"
   ]
  },
  {
   "cell_type": "code",
   "execution_count": 278,
   "metadata": {},
   "outputs": [
    {
     "name": "stdout",
     "output_type": "stream",
     "text": [
      "Request_id            0.000000\n",
      "Pickup_point          0.000000\n",
      "Driver_id            39.288362\n",
      "Status                0.000000\n",
      "Request_timestamp     0.000000\n",
      "Drop_timestamp       58.028169\n",
      "dtype: float64\n"
     ]
    }
   ],
   "source": [
    "#We see that there are null values in both columns and rows; Now calculating percentages.\n",
    "#Null values in the rows is not significant for the analysis.\n",
    "print(100*(uber_df.isnull().sum(axis = 0)/len(uber_df.index)))\n",
    "\n",
    "# Inference : There are high number of null values in the Driver_id and Drop_timestamp. We will be analysing the cause\n",
    "#             for the same later in the analysis."
   ]
  },
  {
   "cell_type": "code",
   "execution_count": 279,
   "metadata": {},
   "outputs": [
    {
     "data": {
      "text/plain": [
       "Int64Index([], dtype='int64')"
      ]
     },
     "execution_count": 279,
     "metadata": {},
     "output_type": "execute_result"
    }
   ],
   "source": [
    "#Finding if there are any \"\"(blank values) in each column of the dataset\n",
    "\n",
    "uber_df[uber_df['Pickup_point'] == \" \"].index\n",
    "uber_df[uber_df['Status'] == \" \"].index\n",
    "uber_df[uber_df['Request_timestamp'] == \" \"].index\n",
    "\n",
    "# Inference : There seems to be no blank values in the object type columns"
   ]
  },
  {
   "cell_type": "code",
   "execution_count": 280,
   "metadata": {},
   "outputs": [],
   "source": [
    "# Now counting the number of trips that didn't complete as for them the Drop_timestamp column value will be NULL."
   ]
  },
  {
   "cell_type": "code",
   "execution_count": 281,
   "metadata": {},
   "outputs": [
    {
     "data": {
      "text/plain": [
       "Status\n",
       "Cancelled            1264\n",
       "No Cars Available    2650\n",
       "Trip Completed       2831\n",
       "dtype: int64"
      ]
     },
     "execution_count": 281,
     "metadata": {},
     "output_type": "execute_result"
    }
   ],
   "source": [
    "uber_df.groupby(['Status']).size() # By Number"
   ]
  },
  {
   "cell_type": "code",
   "execution_count": 282,
   "metadata": {
    "scrolled": true
   },
   "outputs": [
    {
     "data": {
      "text/plain": [
       "58.02816901408451"
      ]
     },
     "execution_count": 282,
     "metadata": {},
     "output_type": "execute_result"
    }
   ],
   "source": [
    "# By percentage it is nearly 58% of the trips; Also null value percentage for Drop_timestamp column is 58%.\n",
    "(uber_df['Status'].value_counts(normalize=True) * 100)[[\"No Cars Available\", \"Cancelled\"]].sum()\n",
    "# Inference : The Drop_timestamp NAs are because the trips did not complete."
   ]
  },
  {
   "cell_type": "code",
   "execution_count": 285,
   "metadata": {},
   "outputs": [
    {
     "data": {
      "text/plain": [
       "39.288361749444036"
      ]
     },
     "execution_count": 285,
     "metadata": {},
     "output_type": "execute_result"
    }
   ],
   "source": [
    "# Now checking the relation between Driver_id null values an other columns\n",
    "# Checking by Status column of the dataset\n",
    "(uber_df['Status'].value_counts(normalize=True) * 100)[[\"No Cars Available\"]].sum()\n",
    "# The Driver_id NAs percentage is approximately 39%, so is the percentage of trips with \"No Cars Available\" status.\n",
    "# Inference: Driver_id has null values because cars were not available."
   ]
  },
  {
   "cell_type": "code",
   "execution_count": 284,
   "metadata": {},
   "outputs": [],
   "source": [
    "  #### Final Conclusions from Data Cleaning Process ###\n",
    "    # 1. There are null values in the dataset\n",
    "    # 2. There are no blank spaces in the dataset\n",
    "    # 3. Drop_timetamp has null values for status as cancelled or no cars available\n",
    "    # 4. Driver_id has null values for status as no cars available"
   ]
  },
  {
   "cell_type": "markdown",
   "metadata": {},
   "source": [
    "###### Step 3: Standardizing Data"
   ]
  },
  {
   "cell_type": "code",
   "execution_count": 286,
   "metadata": {},
   "outputs": [
    {
     "name": "stdout",
     "output_type": "stream",
     "text": [
      "<class 'pandas.core.frame.DataFrame'>\n",
      "RangeIndex: 6745 entries, 0 to 6744\n",
      "Data columns (total 6 columns):\n",
      "Request_id           6745 non-null object\n",
      "Pickup_point         6745 non-null object\n",
      "Driver_id            4095 non-null object\n",
      "Status               6745 non-null object\n",
      "Request_timestamp    6745 non-null object\n",
      "Drop_timestamp       2831 non-null object\n",
      "dtypes: object(6)\n",
      "memory usage: 316.2+ KB\n"
     ]
    }
   ],
   "source": [
    "# Converting certain columns to object-type, to maintain consistency in plotting in the later stages\n",
    "uber_df = uber_df.astype(object)\n",
    "uber_df.info()"
   ]
  },
  {
   "cell_type": "code",
   "execution_count": 288,
   "metadata": {},
   "outputs": [
    {
     "data": {
      "text/html": [
       "<div>\n",
       "<style scoped>\n",
       "    .dataframe tbody tr th:only-of-type {\n",
       "        vertical-align: middle;\n",
       "    }\n",
       "\n",
       "    .dataframe tbody tr th {\n",
       "        vertical-align: top;\n",
       "    }\n",
       "\n",
       "    .dataframe thead th {\n",
       "        text-align: right;\n",
       "    }\n",
       "</style>\n",
       "<table border=\"1\" class=\"dataframe\">\n",
       "  <thead>\n",
       "    <tr style=\"text-align: right;\">\n",
       "      <th></th>\n",
       "      <th>Request_id</th>\n",
       "      <th>Pickup_point</th>\n",
       "      <th>Driver_id</th>\n",
       "      <th>Status</th>\n",
       "      <th>Request_timestamp</th>\n",
       "      <th>Drop_timestamp</th>\n",
       "    </tr>\n",
       "  </thead>\n",
       "  <tbody>\n",
       "    <tr>\n",
       "      <th>0</th>\n",
       "      <td>619</td>\n",
       "      <td>Airport</td>\n",
       "      <td>1</td>\n",
       "      <td>Trip Completed</td>\n",
       "      <td>2016-07-11 11:51:00</td>\n",
       "      <td>2016-07-11 13:00:00</td>\n",
       "    </tr>\n",
       "    <tr>\n",
       "      <th>1</th>\n",
       "      <td>867</td>\n",
       "      <td>Airport</td>\n",
       "      <td>1</td>\n",
       "      <td>Trip Completed</td>\n",
       "      <td>2016-07-11 17:57:00</td>\n",
       "      <td>2016-07-11 18:47:00</td>\n",
       "    </tr>\n",
       "    <tr>\n",
       "      <th>2</th>\n",
       "      <td>1807</td>\n",
       "      <td>City</td>\n",
       "      <td>1</td>\n",
       "      <td>Trip Completed</td>\n",
       "      <td>2016-07-12 09:17:00</td>\n",
       "      <td>2016-07-12 09:58:00</td>\n",
       "    </tr>\n",
       "    <tr>\n",
       "      <th>3</th>\n",
       "      <td>2532</td>\n",
       "      <td>Airport</td>\n",
       "      <td>1</td>\n",
       "      <td>Trip Completed</td>\n",
       "      <td>2016-07-12 21:08:00</td>\n",
       "      <td>2016-07-12 22:03:00</td>\n",
       "    </tr>\n",
       "    <tr>\n",
       "      <th>4</th>\n",
       "      <td>3112</td>\n",
       "      <td>City</td>\n",
       "      <td>1</td>\n",
       "      <td>Trip Completed</td>\n",
       "      <td>2016-07-13 08:33:16</td>\n",
       "      <td>2016-07-13 09:25:47</td>\n",
       "    </tr>\n",
       "    <tr>\n",
       "      <th>5</th>\n",
       "      <td>3879</td>\n",
       "      <td>Airport</td>\n",
       "      <td>1</td>\n",
       "      <td>Trip Completed</td>\n",
       "      <td>2016-07-13 21:57:28</td>\n",
       "      <td>2016-07-13 22:28:59</td>\n",
       "    </tr>\n",
       "    <tr>\n",
       "      <th>6</th>\n",
       "      <td>4270</td>\n",
       "      <td>Airport</td>\n",
       "      <td>1</td>\n",
       "      <td>Trip Completed</td>\n",
       "      <td>2016-07-14 06:15:32</td>\n",
       "      <td>2016-07-14 07:13:15</td>\n",
       "    </tr>\n",
       "    <tr>\n",
       "      <th>7</th>\n",
       "      <td>5510</td>\n",
       "      <td>Airport</td>\n",
       "      <td>1</td>\n",
       "      <td>Trip Completed</td>\n",
       "      <td>2016-07-15 05:11:52</td>\n",
       "      <td>2016-07-15 06:07:52</td>\n",
       "    </tr>\n",
       "    <tr>\n",
       "      <th>8</th>\n",
       "      <td>6248</td>\n",
       "      <td>City</td>\n",
       "      <td>1</td>\n",
       "      <td>Trip Completed</td>\n",
       "      <td>2016-07-15 17:57:27</td>\n",
       "      <td>2016-07-15 18:50:51</td>\n",
       "    </tr>\n",
       "    <tr>\n",
       "      <th>9</th>\n",
       "      <td>267</td>\n",
       "      <td>City</td>\n",
       "      <td>2</td>\n",
       "      <td>Trip Completed</td>\n",
       "      <td>2016-07-11 06:46:00</td>\n",
       "      <td>2016-07-11 07:25:00</td>\n",
       "    </tr>\n",
       "    <tr>\n",
       "      <th>10</th>\n",
       "      <td>1467</td>\n",
       "      <td>Airport</td>\n",
       "      <td>2</td>\n",
       "      <td>Trip Completed</td>\n",
       "      <td>2016-07-12 05:08:00</td>\n",
       "      <td>2016-07-12 06:02:00</td>\n",
       "    </tr>\n",
       "    <tr>\n",
       "      <th>11</th>\n",
       "      <td>1983</td>\n",
       "      <td>City</td>\n",
       "      <td>2</td>\n",
       "      <td>Trip Completed</td>\n",
       "      <td>2016-07-12 12:30:00</td>\n",
       "      <td>2016-07-12 12:57:00</td>\n",
       "    </tr>\n",
       "    <tr>\n",
       "      <th>12</th>\n",
       "      <td>2784</td>\n",
       "      <td>Airport</td>\n",
       "      <td>2</td>\n",
       "      <td>Trip Completed</td>\n",
       "      <td>2016-07-13 04:49:20</td>\n",
       "      <td>2016-07-13 05:23:03</td>\n",
       "    </tr>\n",
       "    <tr>\n",
       "      <th>13</th>\n",
       "      <td>3075</td>\n",
       "      <td>City</td>\n",
       "      <td>2</td>\n",
       "      <td>Trip Completed</td>\n",
       "      <td>2016-07-13 08:02:53</td>\n",
       "      <td>2016-07-13 09:16:19</td>\n",
       "    </tr>\n",
       "    <tr>\n",
       "      <th>14</th>\n",
       "      <td>3379</td>\n",
       "      <td>City</td>\n",
       "      <td>2</td>\n",
       "      <td>Trip Completed</td>\n",
       "      <td>2016-07-13 14:23:02</td>\n",
       "      <td>2016-07-13 15:35:18</td>\n",
       "    </tr>\n",
       "    <tr>\n",
       "      <th>15</th>\n",
       "      <td>3482</td>\n",
       "      <td>Airport</td>\n",
       "      <td>2</td>\n",
       "      <td>Trip Completed</td>\n",
       "      <td>2016-07-13 17:23:18</td>\n",
       "      <td>2016-07-13 18:20:51</td>\n",
       "    </tr>\n",
       "    <tr>\n",
       "      <th>16</th>\n",
       "      <td>4652</td>\n",
       "      <td>City</td>\n",
       "      <td>2</td>\n",
       "      <td>Trip Completed</td>\n",
       "      <td>2016-07-14 12:01:02</td>\n",
       "      <td>2016-07-14 12:36:46</td>\n",
       "    </tr>\n",
       "    <tr>\n",
       "      <th>17</th>\n",
       "      <td>5335</td>\n",
       "      <td>Airport</td>\n",
       "      <td>2</td>\n",
       "      <td>Trip Completed</td>\n",
       "      <td>2016-07-14 22:24:13</td>\n",
       "      <td>2016-07-14 23:18:52</td>\n",
       "    </tr>\n",
       "    <tr>\n",
       "      <th>18</th>\n",
       "      <td>535</td>\n",
       "      <td>Airport</td>\n",
       "      <td>3</td>\n",
       "      <td>Trip Completed</td>\n",
       "      <td>2016-07-11 10:00:00</td>\n",
       "      <td>2016-07-11 10:31:00</td>\n",
       "    </tr>\n",
       "    <tr>\n",
       "      <th>19</th>\n",
       "      <td>960</td>\n",
       "      <td>Airport</td>\n",
       "      <td>3</td>\n",
       "      <td>Trip Completed</td>\n",
       "      <td>2016-07-11 18:45:00</td>\n",
       "      <td>2016-07-11 19:23:00</td>\n",
       "    </tr>\n",
       "    <tr>\n",
       "      <th>20</th>\n",
       "      <td>1934</td>\n",
       "      <td>Airport</td>\n",
       "      <td>3</td>\n",
       "      <td>Trip Completed</td>\n",
       "      <td>2016-07-12 11:17:00</td>\n",
       "      <td>2016-07-12 12:23:00</td>\n",
       "    </tr>\n",
       "    <tr>\n",
       "      <th>21</th>\n",
       "      <td>2083</td>\n",
       "      <td>Airport</td>\n",
       "      <td>3</td>\n",
       "      <td>Trip Completed</td>\n",
       "      <td>2016-07-12 15:46:00</td>\n",
       "      <td>2016-07-12 16:40:00</td>\n",
       "    </tr>\n",
       "    <tr>\n",
       "      <th>22</th>\n",
       "      <td>2211</td>\n",
       "      <td>Airport</td>\n",
       "      <td>3</td>\n",
       "      <td>Trip Completed</td>\n",
       "      <td>2016-07-12 18:00:00</td>\n",
       "      <td>2016-07-12 18:28:00</td>\n",
       "    </tr>\n",
       "    <tr>\n",
       "      <th>23</th>\n",
       "      <td>3096</td>\n",
       "      <td>Airport</td>\n",
       "      <td>3</td>\n",
       "      <td>Trip Completed</td>\n",
       "      <td>2016-07-13 08:17:29</td>\n",
       "      <td>2016-07-13 09:22:37</td>\n",
       "    </tr>\n",
       "    <tr>\n",
       "      <th>24</th>\n",
       "      <td>3881</td>\n",
       "      <td>Airport</td>\n",
       "      <td>3</td>\n",
       "      <td>Trip Completed</td>\n",
       "      <td>2016-07-13 21:54:18</td>\n",
       "      <td>2016-07-13 22:51:23</td>\n",
       "    </tr>\n",
       "    <tr>\n",
       "      <th>25</th>\n",
       "      <td>5254</td>\n",
       "      <td>City</td>\n",
       "      <td>3</td>\n",
       "      <td>Trip Completed</td>\n",
       "      <td>2016-07-14 21:23:03</td>\n",
       "      <td>2016-07-14 22:25:19</td>\n",
       "    </tr>\n",
       "    <tr>\n",
       "      <th>26</th>\n",
       "      <td>5434</td>\n",
       "      <td>City</td>\n",
       "      <td>3</td>\n",
       "      <td>Trip Completed</td>\n",
       "      <td>2016-07-15 02:41:38</td>\n",
       "      <td>2016-07-15 03:24:43</td>\n",
       "    </tr>\n",
       "    <tr>\n",
       "      <th>27</th>\n",
       "      <td>5916</td>\n",
       "      <td>City</td>\n",
       "      <td>3</td>\n",
       "      <td>Trip Completed</td>\n",
       "      <td>2016-07-15 10:00:43</td>\n",
       "      <td>2016-07-15 10:53:06</td>\n",
       "    </tr>\n",
       "    <tr>\n",
       "      <th>28</th>\n",
       "      <td>669</td>\n",
       "      <td>City</td>\n",
       "      <td>4</td>\n",
       "      <td>Trip Completed</td>\n",
       "      <td>2016-07-11 13:08:00</td>\n",
       "      <td>2016-07-11 13:49:00</td>\n",
       "    </tr>\n",
       "    <tr>\n",
       "      <th>29</th>\n",
       "      <td>1567</td>\n",
       "      <td>Airport</td>\n",
       "      <td>4</td>\n",
       "      <td>Trip Completed</td>\n",
       "      <td>2016-07-12 06:21:00</td>\n",
       "      <td>2016-07-12 07:10:00</td>\n",
       "    </tr>\n",
       "    <tr>\n",
       "      <th>...</th>\n",
       "      <td>...</td>\n",
       "      <td>...</td>\n",
       "      <td>...</td>\n",
       "      <td>...</td>\n",
       "      <td>...</td>\n",
       "      <td>...</td>\n",
       "    </tr>\n",
       "    <tr>\n",
       "      <th>6715</th>\n",
       "      <td>6683</td>\n",
       "      <td>City</td>\n",
       "      <td>NaN</td>\n",
       "      <td>No Cars Available</td>\n",
       "      <td>2016-07-15 22:34:01</td>\n",
       "      <td>NaT</td>\n",
       "    </tr>\n",
       "    <tr>\n",
       "      <th>6716</th>\n",
       "      <td>6686</td>\n",
       "      <td>Airport</td>\n",
       "      <td>NaN</td>\n",
       "      <td>No Cars Available</td>\n",
       "      <td>2016-07-15 22:36:13</td>\n",
       "      <td>NaT</td>\n",
       "    </tr>\n",
       "    <tr>\n",
       "      <th>6717</th>\n",
       "      <td>6688</td>\n",
       "      <td>Airport</td>\n",
       "      <td>NaN</td>\n",
       "      <td>No Cars Available</td>\n",
       "      <td>2016-07-15 22:37:37</td>\n",
       "      <td>NaT</td>\n",
       "    </tr>\n",
       "    <tr>\n",
       "      <th>6718</th>\n",
       "      <td>6689</td>\n",
       "      <td>Airport</td>\n",
       "      <td>NaN</td>\n",
       "      <td>No Cars Available</td>\n",
       "      <td>2016-07-15 22:43:46</td>\n",
       "      <td>NaT</td>\n",
       "    </tr>\n",
       "    <tr>\n",
       "      <th>6719</th>\n",
       "      <td>6693</td>\n",
       "      <td>City</td>\n",
       "      <td>NaN</td>\n",
       "      <td>No Cars Available</td>\n",
       "      <td>2016-07-15 22:49:33</td>\n",
       "      <td>NaT</td>\n",
       "    </tr>\n",
       "    <tr>\n",
       "      <th>6720</th>\n",
       "      <td>6696</td>\n",
       "      <td>City</td>\n",
       "      <td>NaN</td>\n",
       "      <td>No Cars Available</td>\n",
       "      <td>2016-07-15 22:49:45</td>\n",
       "      <td>NaT</td>\n",
       "    </tr>\n",
       "    <tr>\n",
       "      <th>6721</th>\n",
       "      <td>6697</td>\n",
       "      <td>Airport</td>\n",
       "      <td>NaN</td>\n",
       "      <td>No Cars Available</td>\n",
       "      <td>2016-07-15 22:51:18</td>\n",
       "      <td>NaT</td>\n",
       "    </tr>\n",
       "    <tr>\n",
       "      <th>6722</th>\n",
       "      <td>6709</td>\n",
       "      <td>Airport</td>\n",
       "      <td>NaN</td>\n",
       "      <td>No Cars Available</td>\n",
       "      <td>2016-07-15 22:56:00</td>\n",
       "      <td>NaT</td>\n",
       "    </tr>\n",
       "    <tr>\n",
       "      <th>6723</th>\n",
       "      <td>6706</td>\n",
       "      <td>Airport</td>\n",
       "      <td>NaN</td>\n",
       "      <td>No Cars Available</td>\n",
       "      <td>2016-07-15 22:58:15</td>\n",
       "      <td>NaT</td>\n",
       "    </tr>\n",
       "    <tr>\n",
       "      <th>6724</th>\n",
       "      <td>6708</td>\n",
       "      <td>City</td>\n",
       "      <td>NaN</td>\n",
       "      <td>No Cars Available</td>\n",
       "      <td>2016-07-15 23:03:23</td>\n",
       "      <td>NaT</td>\n",
       "    </tr>\n",
       "    <tr>\n",
       "      <th>6725</th>\n",
       "      <td>6713</td>\n",
       "      <td>City</td>\n",
       "      <td>NaN</td>\n",
       "      <td>No Cars Available</td>\n",
       "      <td>2016-07-15 23:08:14</td>\n",
       "      <td>NaT</td>\n",
       "    </tr>\n",
       "    <tr>\n",
       "      <th>6726</th>\n",
       "      <td>6715</td>\n",
       "      <td>City</td>\n",
       "      <td>NaN</td>\n",
       "      <td>No Cars Available</td>\n",
       "      <td>2016-07-15 23:11:41</td>\n",
       "      <td>NaT</td>\n",
       "    </tr>\n",
       "    <tr>\n",
       "      <th>6727</th>\n",
       "      <td>6716</td>\n",
       "      <td>City</td>\n",
       "      <td>NaN</td>\n",
       "      <td>No Cars Available</td>\n",
       "      <td>2016-07-15 23:14:36</td>\n",
       "      <td>NaT</td>\n",
       "    </tr>\n",
       "    <tr>\n",
       "      <th>6728</th>\n",
       "      <td>6718</td>\n",
       "      <td>Airport</td>\n",
       "      <td>NaN</td>\n",
       "      <td>No Cars Available</td>\n",
       "      <td>2016-07-15 23:14:39</td>\n",
       "      <td>NaT</td>\n",
       "    </tr>\n",
       "    <tr>\n",
       "      <th>6729</th>\n",
       "      <td>6720</td>\n",
       "      <td>City</td>\n",
       "      <td>NaN</td>\n",
       "      <td>No Cars Available</td>\n",
       "      <td>2016-07-15 23:16:48</td>\n",
       "      <td>NaT</td>\n",
       "    </tr>\n",
       "    <tr>\n",
       "      <th>6730</th>\n",
       "      <td>6722</td>\n",
       "      <td>Airport</td>\n",
       "      <td>NaN</td>\n",
       "      <td>No Cars Available</td>\n",
       "      <td>2016-07-15 23:18:21</td>\n",
       "      <td>NaT</td>\n",
       "    </tr>\n",
       "    <tr>\n",
       "      <th>6731</th>\n",
       "      <td>6725</td>\n",
       "      <td>Airport</td>\n",
       "      <td>NaN</td>\n",
       "      <td>No Cars Available</td>\n",
       "      <td>2016-07-15 23:21:53</td>\n",
       "      <td>NaT</td>\n",
       "    </tr>\n",
       "    <tr>\n",
       "      <th>6732</th>\n",
       "      <td>6728</td>\n",
       "      <td>City</td>\n",
       "      <td>NaN</td>\n",
       "      <td>No Cars Available</td>\n",
       "      <td>2016-07-15 23:26:50</td>\n",
       "      <td>NaT</td>\n",
       "    </tr>\n",
       "    <tr>\n",
       "      <th>6733</th>\n",
       "      <td>6730</td>\n",
       "      <td>Airport</td>\n",
       "      <td>NaN</td>\n",
       "      <td>No Cars Available</td>\n",
       "      <td>2016-07-15 23:27:55</td>\n",
       "      <td>NaT</td>\n",
       "    </tr>\n",
       "    <tr>\n",
       "      <th>6734</th>\n",
       "      <td>6732</td>\n",
       "      <td>Airport</td>\n",
       "      <td>NaN</td>\n",
       "      <td>No Cars Available</td>\n",
       "      <td>2016-07-15 23:35:50</td>\n",
       "      <td>NaT</td>\n",
       "    </tr>\n",
       "    <tr>\n",
       "      <th>6735</th>\n",
       "      <td>6737</td>\n",
       "      <td>Airport</td>\n",
       "      <td>NaN</td>\n",
       "      <td>No Cars Available</td>\n",
       "      <td>2016-07-15 23:39:15</td>\n",
       "      <td>NaT</td>\n",
       "    </tr>\n",
       "    <tr>\n",
       "      <th>6736</th>\n",
       "      <td>6744</td>\n",
       "      <td>Airport</td>\n",
       "      <td>NaN</td>\n",
       "      <td>No Cars Available</td>\n",
       "      <td>2016-07-15 23:42:51</td>\n",
       "      <td>NaT</td>\n",
       "    </tr>\n",
       "    <tr>\n",
       "      <th>6737</th>\n",
       "      <td>6740</td>\n",
       "      <td>City</td>\n",
       "      <td>NaN</td>\n",
       "      <td>No Cars Available</td>\n",
       "      <td>2016-07-15 23:43:54</td>\n",
       "      <td>NaT</td>\n",
       "    </tr>\n",
       "    <tr>\n",
       "      <th>6738</th>\n",
       "      <td>6746</td>\n",
       "      <td>City</td>\n",
       "      <td>NaN</td>\n",
       "      <td>No Cars Available</td>\n",
       "      <td>2016-07-15 23:46:03</td>\n",
       "      <td>NaT</td>\n",
       "    </tr>\n",
       "    <tr>\n",
       "      <th>6739</th>\n",
       "      <td>6739</td>\n",
       "      <td>City</td>\n",
       "      <td>NaN</td>\n",
       "      <td>No Cars Available</td>\n",
       "      <td>2016-07-15 23:46:20</td>\n",
       "      <td>NaT</td>\n",
       "    </tr>\n",
       "    <tr>\n",
       "      <th>6740</th>\n",
       "      <td>6745</td>\n",
       "      <td>City</td>\n",
       "      <td>NaN</td>\n",
       "      <td>No Cars Available</td>\n",
       "      <td>2016-07-15 23:49:03</td>\n",
       "      <td>NaT</td>\n",
       "    </tr>\n",
       "    <tr>\n",
       "      <th>6741</th>\n",
       "      <td>6752</td>\n",
       "      <td>Airport</td>\n",
       "      <td>NaN</td>\n",
       "      <td>No Cars Available</td>\n",
       "      <td>2016-07-15 23:50:05</td>\n",
       "      <td>NaT</td>\n",
       "    </tr>\n",
       "    <tr>\n",
       "      <th>6742</th>\n",
       "      <td>6751</td>\n",
       "      <td>City</td>\n",
       "      <td>NaN</td>\n",
       "      <td>No Cars Available</td>\n",
       "      <td>2016-07-15 23:52:06</td>\n",
       "      <td>NaT</td>\n",
       "    </tr>\n",
       "    <tr>\n",
       "      <th>6743</th>\n",
       "      <td>6754</td>\n",
       "      <td>City</td>\n",
       "      <td>NaN</td>\n",
       "      <td>No Cars Available</td>\n",
       "      <td>2016-07-15 23:54:39</td>\n",
       "      <td>NaT</td>\n",
       "    </tr>\n",
       "    <tr>\n",
       "      <th>6744</th>\n",
       "      <td>6753</td>\n",
       "      <td>Airport</td>\n",
       "      <td>NaN</td>\n",
       "      <td>No Cars Available</td>\n",
       "      <td>2016-07-15 23:55:03</td>\n",
       "      <td>NaT</td>\n",
       "    </tr>\n",
       "  </tbody>\n",
       "</table>\n",
       "<p>6745 rows × 6 columns</p>\n",
       "</div>"
      ],
      "text/plain": [
       "     Request_id Pickup_point Driver_id             Status   Request_timestamp  \\\n",
       "0           619      Airport         1     Trip Completed 2016-07-11 11:51:00   \n",
       "1           867      Airport         1     Trip Completed 2016-07-11 17:57:00   \n",
       "2          1807         City         1     Trip Completed 2016-07-12 09:17:00   \n",
       "3          2532      Airport         1     Trip Completed 2016-07-12 21:08:00   \n",
       "4          3112         City         1     Trip Completed 2016-07-13 08:33:16   \n",
       "5          3879      Airport         1     Trip Completed 2016-07-13 21:57:28   \n",
       "6          4270      Airport         1     Trip Completed 2016-07-14 06:15:32   \n",
       "7          5510      Airport         1     Trip Completed 2016-07-15 05:11:52   \n",
       "8          6248         City         1     Trip Completed 2016-07-15 17:57:27   \n",
       "9           267         City         2     Trip Completed 2016-07-11 06:46:00   \n",
       "10         1467      Airport         2     Trip Completed 2016-07-12 05:08:00   \n",
       "11         1983         City         2     Trip Completed 2016-07-12 12:30:00   \n",
       "12         2784      Airport         2     Trip Completed 2016-07-13 04:49:20   \n",
       "13         3075         City         2     Trip Completed 2016-07-13 08:02:53   \n",
       "14         3379         City         2     Trip Completed 2016-07-13 14:23:02   \n",
       "15         3482      Airport         2     Trip Completed 2016-07-13 17:23:18   \n",
       "16         4652         City         2     Trip Completed 2016-07-14 12:01:02   \n",
       "17         5335      Airport         2     Trip Completed 2016-07-14 22:24:13   \n",
       "18          535      Airport         3     Trip Completed 2016-07-11 10:00:00   \n",
       "19          960      Airport         3     Trip Completed 2016-07-11 18:45:00   \n",
       "20         1934      Airport         3     Trip Completed 2016-07-12 11:17:00   \n",
       "21         2083      Airport         3     Trip Completed 2016-07-12 15:46:00   \n",
       "22         2211      Airport         3     Trip Completed 2016-07-12 18:00:00   \n",
       "23         3096      Airport         3     Trip Completed 2016-07-13 08:17:29   \n",
       "24         3881      Airport         3     Trip Completed 2016-07-13 21:54:18   \n",
       "25         5254         City         3     Trip Completed 2016-07-14 21:23:03   \n",
       "26         5434         City         3     Trip Completed 2016-07-15 02:41:38   \n",
       "27         5916         City         3     Trip Completed 2016-07-15 10:00:43   \n",
       "28          669         City         4     Trip Completed 2016-07-11 13:08:00   \n",
       "29         1567      Airport         4     Trip Completed 2016-07-12 06:21:00   \n",
       "...         ...          ...       ...                ...                 ...   \n",
       "6715       6683         City       NaN  No Cars Available 2016-07-15 22:34:01   \n",
       "6716       6686      Airport       NaN  No Cars Available 2016-07-15 22:36:13   \n",
       "6717       6688      Airport       NaN  No Cars Available 2016-07-15 22:37:37   \n",
       "6718       6689      Airport       NaN  No Cars Available 2016-07-15 22:43:46   \n",
       "6719       6693         City       NaN  No Cars Available 2016-07-15 22:49:33   \n",
       "6720       6696         City       NaN  No Cars Available 2016-07-15 22:49:45   \n",
       "6721       6697      Airport       NaN  No Cars Available 2016-07-15 22:51:18   \n",
       "6722       6709      Airport       NaN  No Cars Available 2016-07-15 22:56:00   \n",
       "6723       6706      Airport       NaN  No Cars Available 2016-07-15 22:58:15   \n",
       "6724       6708         City       NaN  No Cars Available 2016-07-15 23:03:23   \n",
       "6725       6713         City       NaN  No Cars Available 2016-07-15 23:08:14   \n",
       "6726       6715         City       NaN  No Cars Available 2016-07-15 23:11:41   \n",
       "6727       6716         City       NaN  No Cars Available 2016-07-15 23:14:36   \n",
       "6728       6718      Airport       NaN  No Cars Available 2016-07-15 23:14:39   \n",
       "6729       6720         City       NaN  No Cars Available 2016-07-15 23:16:48   \n",
       "6730       6722      Airport       NaN  No Cars Available 2016-07-15 23:18:21   \n",
       "6731       6725      Airport       NaN  No Cars Available 2016-07-15 23:21:53   \n",
       "6732       6728         City       NaN  No Cars Available 2016-07-15 23:26:50   \n",
       "6733       6730      Airport       NaN  No Cars Available 2016-07-15 23:27:55   \n",
       "6734       6732      Airport       NaN  No Cars Available 2016-07-15 23:35:50   \n",
       "6735       6737      Airport       NaN  No Cars Available 2016-07-15 23:39:15   \n",
       "6736       6744      Airport       NaN  No Cars Available 2016-07-15 23:42:51   \n",
       "6737       6740         City       NaN  No Cars Available 2016-07-15 23:43:54   \n",
       "6738       6746         City       NaN  No Cars Available 2016-07-15 23:46:03   \n",
       "6739       6739         City       NaN  No Cars Available 2016-07-15 23:46:20   \n",
       "6740       6745         City       NaN  No Cars Available 2016-07-15 23:49:03   \n",
       "6741       6752      Airport       NaN  No Cars Available 2016-07-15 23:50:05   \n",
       "6742       6751         City       NaN  No Cars Available 2016-07-15 23:52:06   \n",
       "6743       6754         City       NaN  No Cars Available 2016-07-15 23:54:39   \n",
       "6744       6753      Airport       NaN  No Cars Available 2016-07-15 23:55:03   \n",
       "\n",
       "          Drop_timestamp  \n",
       "0    2016-07-11 13:00:00  \n",
       "1    2016-07-11 18:47:00  \n",
       "2    2016-07-12 09:58:00  \n",
       "3    2016-07-12 22:03:00  \n",
       "4    2016-07-13 09:25:47  \n",
       "5    2016-07-13 22:28:59  \n",
       "6    2016-07-14 07:13:15  \n",
       "7    2016-07-15 06:07:52  \n",
       "8    2016-07-15 18:50:51  \n",
       "9    2016-07-11 07:25:00  \n",
       "10   2016-07-12 06:02:00  \n",
       "11   2016-07-12 12:57:00  \n",
       "12   2016-07-13 05:23:03  \n",
       "13   2016-07-13 09:16:19  \n",
       "14   2016-07-13 15:35:18  \n",
       "15   2016-07-13 18:20:51  \n",
       "16   2016-07-14 12:36:46  \n",
       "17   2016-07-14 23:18:52  \n",
       "18   2016-07-11 10:31:00  \n",
       "19   2016-07-11 19:23:00  \n",
       "20   2016-07-12 12:23:00  \n",
       "21   2016-07-12 16:40:00  \n",
       "22   2016-07-12 18:28:00  \n",
       "23   2016-07-13 09:22:37  \n",
       "24   2016-07-13 22:51:23  \n",
       "25   2016-07-14 22:25:19  \n",
       "26   2016-07-15 03:24:43  \n",
       "27   2016-07-15 10:53:06  \n",
       "28   2016-07-11 13:49:00  \n",
       "29   2016-07-12 07:10:00  \n",
       "...                  ...  \n",
       "6715                 NaT  \n",
       "6716                 NaT  \n",
       "6717                 NaT  \n",
       "6718                 NaT  \n",
       "6719                 NaT  \n",
       "6720                 NaT  \n",
       "6721                 NaT  \n",
       "6722                 NaT  \n",
       "6723                 NaT  \n",
       "6724                 NaT  \n",
       "6725                 NaT  \n",
       "6726                 NaT  \n",
       "6727                 NaT  \n",
       "6728                 NaT  \n",
       "6729                 NaT  \n",
       "6730                 NaT  \n",
       "6731                 NaT  \n",
       "6732                 NaT  \n",
       "6733                 NaT  \n",
       "6734                 NaT  \n",
       "6735                 NaT  \n",
       "6736                 NaT  \n",
       "6737                 NaT  \n",
       "6738                 NaT  \n",
       "6739                 NaT  \n",
       "6740                 NaT  \n",
       "6741                 NaT  \n",
       "6742                 NaT  \n",
       "6743                 NaT  \n",
       "6744                 NaT  \n",
       "\n",
       "[6745 rows x 6 columns]"
      ]
     },
     "execution_count": 288,
     "metadata": {},
     "output_type": "execute_result"
    }
   ],
   "source": [
    "# As per the dataset, the date values in the Request_timestamp and Drop_timestamp is not consistent.\n",
    "# Creating a consistent date format across the two columns.\n",
    "uber_df['Request_timestamp']= pd.to_datetime(uber_df['Request_timestamp'], dayfirst= True)\n",
    "uber_df['Drop_timestamp']= pd.to_datetime(uber_df['Drop_timestamp'], dayfirst= True)\n",
    "uber_df\n"
   ]
  },
  {
   "cell_type": "markdown",
   "metadata": {},
   "source": [
    "###### Step 4: Derived Metrics\n",
    "A. Type Driven Metrics"
   ]
  },
  {
   "cell_type": "code",
   "execution_count": 289,
   "metadata": {},
   "outputs": [
    {
     "name": "stdout",
     "output_type": "stream",
     "text": [
      "<class 'pandas.core.frame.DataFrame'>\n",
      "RangeIndex: 6745 entries, 0 to 6744\n",
      "Data columns (total 6 columns):\n",
      "Request_id           6745 non-null object\n",
      "Pickup_point         6745 non-null object\n",
      "Driver_id            4095 non-null object\n",
      "Status               6745 non-null object\n",
      "Request_timestamp    6745 non-null datetime64[ns]\n",
      "Drop_timestamp       2831 non-null datetime64[ns]\n",
      "dtypes: datetime64[ns](2), object(4)\n",
      "memory usage: 316.2+ KB\n"
     ]
    }
   ],
   "source": [
    "uber_df.info()"
   ]
  },
  {
   "cell_type": "code",
   "execution_count": 290,
   "metadata": {},
   "outputs": [],
   "source": [
    "# Calculating creating date and hour as separate columns extracting values from Drop and Request Timestamps.\n",
    "\n",
    "uber_df['Drop_date'] = uber_df['Drop_timestamp'].dt.date\n",
    "uber_df['Request_date'] = uber_df['Request_timestamp'].dt.date\n",
    "uber_df['Drop_hour']= uber_df['Drop_timestamp'].dt.hour\n",
    "uber_df['Request_hour']= uber_df['Request_timestamp'].dt.hour"
   ]
  },
  {
   "cell_type": "code",
   "execution_count": 291,
   "metadata": {},
   "outputs": [
    {
     "data": {
      "text/plain": [
       "Index(['Request_id', 'Pickup_point', 'Driver_id', 'Status',\n",
       "       'Request_timestamp', 'Drop_timestamp', 'Drop_date', 'Request_date',\n",
       "       'Drop_hour', 'Request_hour'],\n",
       "      dtype='object')"
      ]
     },
     "execution_count": 291,
     "metadata": {},
     "output_type": "execute_result"
    }
   ],
   "source": [
    "uber_df.columns # 10 columns in total now."
   ]
  },
  {
   "cell_type": "code",
   "execution_count": 292,
   "metadata": {},
   "outputs": [
    {
     "data": {
      "text/plain": [
       "array([datetime.date(2016, 7, 11), datetime.date(2016, 7, 12),\n",
       "       datetime.date(2016, 7, 13), datetime.date(2016, 7, 14),\n",
       "       datetime.date(2016, 7, 15), datetime.date(2016, 7, 16), nan],\n",
       "      dtype=object)"
      ]
     },
     "execution_count": 292,
     "metadata": {},
     "output_type": "execute_result"
    }
   ],
   "source": [
    "#Checking for unique value in the date columns. We see that there are 6 dates for which the data is available.\n",
    "(uber_df.Drop_date.unique())\n"
   ]
  },
  {
   "cell_type": "code",
   "execution_count": 239,
   "metadata": {},
   "outputs": [
    {
     "data": {
      "text/plain": [
       "array([datetime.date(2016, 7, 11), datetime.date(2016, 7, 12),\n",
       "       datetime.date(2016, 7, 13), datetime.date(2016, 7, 14),\n",
       "       datetime.date(2016, 7, 15)], dtype=object)"
      ]
     },
     "execution_count": 239,
     "metadata": {},
     "output_type": "execute_result"
    }
   ],
   "source": [
    "uber_df.Request_date.unique()"
   ]
  },
  {
   "cell_type": "code",
   "execution_count": 240,
   "metadata": {},
   "outputs": [
    {
     "data": {
      "text/plain": [
       "array([ 0.,  1.,  2.,  3.,  4.,  5.,  6.,  7.,  8.,  9., 10., 11., 12.,\n",
       "       13., 14., 15., 16., 17., 18., 19., 20., 21., 22., 23., nan])"
      ]
     },
     "execution_count": 240,
     "metadata": {},
     "output_type": "execute_result"
    }
   ],
   "source": [
    "# Checking unique values in the hour columns. We see that there were trips in every hour of a particular date.\n",
    "np.sort(uber_df.Drop_hour.unique())"
   ]
  },
  {
   "cell_type": "code",
   "execution_count": 241,
   "metadata": {},
   "outputs": [
    {
     "data": {
      "text/plain": [
       "array([ 0,  1,  2,  3,  4,  5,  6,  7,  8,  9, 10, 11, 12, 13, 14, 15, 16,\n",
       "       17, 18, 19, 20, 21, 22, 23])"
      ]
     },
     "execution_count": 241,
     "metadata": {},
     "output_type": "execute_result"
    }
   ],
   "source": [
    "np.sort(uber_df.Request_hour.unique())"
   ]
  },
  {
   "cell_type": "markdown",
   "metadata": {},
   "source": [
    "B. Business Driven Metrics"
   ]
  },
  {
   "cell_type": "code",
   "execution_count": 293,
   "metadata": {},
   "outputs": [
    {
     "data": {
      "text/plain": [
       "3914"
      ]
     },
     "execution_count": 293,
     "metadata": {},
     "output_type": "execute_result"
    }
   ],
   "source": [
    "#Calculating Trip Time by computing difference between Drop Time and Request Time Column\n",
    "uber_df['Trip_time']=(uber_df.Drop_timestamp-uber_df.Request_timestamp).astype('timedelta64[h]')\n",
    "\n",
    "uber_df.Trip_time\n",
    "uber_df.Trip_time.isnull().sum()\n",
    "#Inference: The number of null values are the same as Drop Timestamp Column; Hence the computation of Trip Time is correct."
   ]
  },
  {
   "cell_type": "markdown",
   "metadata": {},
   "source": [
    "###### Step 5: Univariate Analysis"
   ]
  },
  {
   "cell_type": "code",
   "execution_count": 294,
   "metadata": {},
   "outputs": [
    {
     "data": {
      "text/plain": [
       "array([1, 2, 3, ..., 6764, 6765, 6766], dtype=object)"
      ]
     },
     "execution_count": 294,
     "metadata": {},
     "output_type": "execute_result"
    }
   ],
   "source": [
    "#1) Request_id\n",
    "# The values in this column should be unique\n",
    "np.sort(uber_df.Request_id.unique())\n",
    "       \n",
    "# Inference : Only unique values present. The maximum value is 6766."
   ]
  },
  {
   "cell_type": "code",
   "execution_count": 244,
   "metadata": {},
   "outputs": [
    {
     "data": {
      "text/plain": [
       "(6745,)"
      ]
     },
     "execution_count": 244,
     "metadata": {},
     "output_type": "execute_result"
    }
   ],
   "source": [
    "uber_df.Request_id.shape \n",
    "# Inference : We see there are 6745 values in the Request id column but there are 6766 unique values; Can be inferred that there are some\n",
    "#missing values. There are 6766-6745=21 missing values."
   ]
  },
  {
   "cell_type": "code",
   "execution_count": 295,
   "metadata": {},
   "outputs": [
    {
     "name": "stdout",
     "output_type": "stream",
     "text": [
      "City       51.99407\n",
      "Airport    48.00593\n",
      "Name: Pickup_point, dtype: float64\n"
     ]
    }
   ],
   "source": [
    "#2) Analysing Pickup_point distribution between City and Airport.\n",
    "\n",
    "print((uber_df['Pickup_point'].value_counts(normalize=True) * 100))\n",
    "\n",
    "# Inference : We see nearly equal distrubution of Pickup_point values; That is around 50%\n"
   ]
  },
  {
   "cell_type": "code",
   "execution_count": 296,
   "metadata": {},
   "outputs": [
    {
     "name": "stdout",
     "output_type": "stream",
     "text": [
      "Trip Completed       41.971831\n",
      "No Cars Available    39.288362\n",
      "Cancelled            18.739807\n",
      "Name: Status, dtype: float64\n"
     ]
    }
   ],
   "source": [
    "#3)Status\n",
    "print((uber_df['Status'].value_counts(normalize=True) * 100))\n",
    "# Inference : Aprroximately 39% trips have status as \"No Cars Available\"\n",
    "#            Also the percentage of trips cancelled is also quite high\n",
    "#            Further investigation will be done based on Pickup_points and hours"
   ]
  },
  {
   "cell_type": "code",
   "execution_count": 297,
   "metadata": {},
   "outputs": [
    {
     "data": {
      "text/plain": [
       "Request_date\n",
       "2016-07-11    1367\n",
       "2016-07-12    1307\n",
       "2016-07-13    1337\n",
       "2016-07-14    1353\n",
       "2016-07-15    1381\n",
       "dtype: int64"
      ]
     },
     "execution_count": 297,
     "metadata": {},
     "output_type": "execute_result"
    }
   ],
   "source": [
    "#4)Request_date\n",
    "uber_df.groupby(['Request_date']).size()\n",
    "\n",
    "# Inference : We see that the number of trips each day is nearly the same. "
   ]
  },
  {
   "cell_type": "code",
   "execution_count": 298,
   "metadata": {},
   "outputs": [
    {
     "data": {
      "text/plain": [
       "Index(['Request_id', 'Pickup_point', 'Driver_id', 'Status',\n",
       "       'Request_timestamp', 'Drop_timestamp', 'Drop_date', 'Request_date',\n",
       "       'Drop_hour', 'Request_hour', 'Trip_time'],\n",
       "      dtype='object')"
      ]
     },
     "execution_count": 298,
     "metadata": {},
     "output_type": "execute_result"
    }
   ],
   "source": [
    "uber_df.columns"
   ]
  },
  {
   "cell_type": "code",
   "execution_count": 299,
   "metadata": {},
   "outputs": [],
   "source": [
    "#Creating a column Time_of_day based on hour of the day to analyse peak times at which cabs are in demand.\n",
    "conditions = [\n",
    "    (uber_df['Request_hour'] >=0) & (uber_df['Request_hour'] <=4),\n",
    "    (uber_df['Request_hour'] >=5) & (uber_df['Request_hour'] <=9),\n",
    "    (uber_df['Request_hour'] >=10) & (uber_df['Request_hour'] <=16),\n",
    "    (uber_df['Request_hour'] >=17) & (uber_df['Request_hour'] <=20),\n",
    "    (uber_df['Request_hour'] >=21) & (uber_df['Request_hour'] <=23)]\n",
    "choices = ['Midnight', 'Morning', 'Day', 'Evening', 'Night']\n",
    "uber_df['Time_of_day'] = np.select(conditions, choices)\n"
   ]
  },
  {
   "cell_type": "code",
   "execution_count": 300,
   "metadata": {},
   "outputs": [
    {
     "data": {
      "text/html": [
       "<div>\n",
       "<style scoped>\n",
       "    .dataframe tbody tr th:only-of-type {\n",
       "        vertical-align: middle;\n",
       "    }\n",
       "\n",
       "    .dataframe tbody tr th {\n",
       "        vertical-align: top;\n",
       "    }\n",
       "\n",
       "    .dataframe thead th {\n",
       "        text-align: right;\n",
       "    }\n",
       "</style>\n",
       "<table border=\"1\" class=\"dataframe\">\n",
       "  <thead>\n",
       "    <tr style=\"text-align: right;\">\n",
       "      <th></th>\n",
       "      <th>Request_id</th>\n",
       "      <th>Pickup_point</th>\n",
       "      <th>Driver_id</th>\n",
       "      <th>Status</th>\n",
       "      <th>Request_timestamp</th>\n",
       "      <th>Drop_timestamp</th>\n",
       "      <th>Drop_date</th>\n",
       "      <th>Request_date</th>\n",
       "      <th>Drop_hour</th>\n",
       "      <th>Request_hour</th>\n",
       "      <th>Trip_time</th>\n",
       "      <th>Time_of_day</th>\n",
       "    </tr>\n",
       "  </thead>\n",
       "  <tbody>\n",
       "    <tr>\n",
       "      <th>0</th>\n",
       "      <td>619</td>\n",
       "      <td>Airport</td>\n",
       "      <td>1</td>\n",
       "      <td>Trip Completed</td>\n",
       "      <td>2016-07-11 11:51:00</td>\n",
       "      <td>2016-07-11 13:00:00</td>\n",
       "      <td>2016-07-11</td>\n",
       "      <td>2016-07-11</td>\n",
       "      <td>13.0</td>\n",
       "      <td>11</td>\n",
       "      <td>1.0</td>\n",
       "      <td>Day</td>\n",
       "    </tr>\n",
       "    <tr>\n",
       "      <th>1</th>\n",
       "      <td>867</td>\n",
       "      <td>Airport</td>\n",
       "      <td>1</td>\n",
       "      <td>Trip Completed</td>\n",
       "      <td>2016-07-11 17:57:00</td>\n",
       "      <td>2016-07-11 18:47:00</td>\n",
       "      <td>2016-07-11</td>\n",
       "      <td>2016-07-11</td>\n",
       "      <td>18.0</td>\n",
       "      <td>17</td>\n",
       "      <td>0.0</td>\n",
       "      <td>Evening</td>\n",
       "    </tr>\n",
       "    <tr>\n",
       "      <th>2</th>\n",
       "      <td>1807</td>\n",
       "      <td>City</td>\n",
       "      <td>1</td>\n",
       "      <td>Trip Completed</td>\n",
       "      <td>2016-07-12 09:17:00</td>\n",
       "      <td>2016-07-12 09:58:00</td>\n",
       "      <td>2016-07-12</td>\n",
       "      <td>2016-07-12</td>\n",
       "      <td>9.0</td>\n",
       "      <td>9</td>\n",
       "      <td>0.0</td>\n",
       "      <td>Morning</td>\n",
       "    </tr>\n",
       "    <tr>\n",
       "      <th>3</th>\n",
       "      <td>2532</td>\n",
       "      <td>Airport</td>\n",
       "      <td>1</td>\n",
       "      <td>Trip Completed</td>\n",
       "      <td>2016-07-12 21:08:00</td>\n",
       "      <td>2016-07-12 22:03:00</td>\n",
       "      <td>2016-07-12</td>\n",
       "      <td>2016-07-12</td>\n",
       "      <td>22.0</td>\n",
       "      <td>21</td>\n",
       "      <td>0.0</td>\n",
       "      <td>Night</td>\n",
       "    </tr>\n",
       "    <tr>\n",
       "      <th>4</th>\n",
       "      <td>3112</td>\n",
       "      <td>City</td>\n",
       "      <td>1</td>\n",
       "      <td>Trip Completed</td>\n",
       "      <td>2016-07-13 08:33:16</td>\n",
       "      <td>2016-07-13 09:25:47</td>\n",
       "      <td>2016-07-13</td>\n",
       "      <td>2016-07-13</td>\n",
       "      <td>9.0</td>\n",
       "      <td>8</td>\n",
       "      <td>0.0</td>\n",
       "      <td>Morning</td>\n",
       "    </tr>\n",
       "  </tbody>\n",
       "</table>\n",
       "</div>"
      ],
      "text/plain": [
       "  Request_id Pickup_point Driver_id          Status   Request_timestamp  \\\n",
       "0        619      Airport         1  Trip Completed 2016-07-11 11:51:00   \n",
       "1        867      Airport         1  Trip Completed 2016-07-11 17:57:00   \n",
       "2       1807         City         1  Trip Completed 2016-07-12 09:17:00   \n",
       "3       2532      Airport         1  Trip Completed 2016-07-12 21:08:00   \n",
       "4       3112         City         1  Trip Completed 2016-07-13 08:33:16   \n",
       "\n",
       "       Drop_timestamp   Drop_date Request_date  Drop_hour  Request_hour  \\\n",
       "0 2016-07-11 13:00:00  2016-07-11   2016-07-11       13.0            11   \n",
       "1 2016-07-11 18:47:00  2016-07-11   2016-07-11       18.0            17   \n",
       "2 2016-07-12 09:58:00  2016-07-12   2016-07-12        9.0             9   \n",
       "3 2016-07-12 22:03:00  2016-07-12   2016-07-12       22.0            21   \n",
       "4 2016-07-13 09:25:47  2016-07-13   2016-07-13        9.0             8   \n",
       "\n",
       "   Trip_time Time_of_day  \n",
       "0        1.0         Day  \n",
       "1        0.0     Evening  \n",
       "2        0.0     Morning  \n",
       "3        0.0       Night  \n",
       "4        0.0     Morning  "
      ]
     },
     "execution_count": 300,
     "metadata": {},
     "output_type": "execute_result"
    }
   ],
   "source": [
    "uber_df.head()"
   ]
  },
  {
   "cell_type": "code",
   "execution_count": 301,
   "metadata": {},
   "outputs": [
    {
     "data": {
      "text/plain": [
       "Text(0.5,1,'Count of requests made in different times of a day')"
      ]
     },
     "execution_count": 301,
     "metadata": {},
     "output_type": "execute_result"
    },
    {
     "data": {
      "image/png": "[encoded data removed]",
      "text/plain": [
       "<Figure size 432x288 with 1 Axes>"
      ]
     },
     "metadata": {
      "needs_background": "light"
     },
     "output_type": "display_data"
    }
   ],
   "source": [
    "# Plotting number of trips based on time\n",
    "uber_df.Time_of_day.value_counts().plot.bar()\n",
    "\n",
    "plt.xlabel(\"Time of Day\")\n",
    "plt.ylabel(\"Request Number\")\n",
    "plt.title(\"Count of requests made in different times of a day\")\n",
    "# Inference : The demand of cabs was on the higher side in the morning and evening time"
   ]
  },
  {
   "cell_type": "markdown",
   "metadata": {},
   "source": [
    "###### Step 6: Segmented Univariate Analysis and Bivariate Analyis;\n",
    "###### Analysis for the problem at the airport."
   ]
  },
  {
   "cell_type": "code",
   "execution_count": 302,
   "metadata": {},
   "outputs": [
    {
     "data": {
      "text/html": [
       "<div>\n",
       "<style scoped>\n",
       "    .dataframe tbody tr th:only-of-type {\n",
       "        vertical-align: middle;\n",
       "    }\n",
       "\n",
       "    .dataframe tbody tr th {\n",
       "        vertical-align: top;\n",
       "    }\n",
       "\n",
       "    .dataframe thead th {\n",
       "        text-align: right;\n",
       "    }\n",
       "</style>\n",
       "<table border=\"1\" class=\"dataframe\">\n",
       "  <thead>\n",
       "    <tr style=\"text-align: right;\">\n",
       "      <th></th>\n",
       "      <th>Request_id</th>\n",
       "      <th>Pickup_point</th>\n",
       "      <th>Driver_id</th>\n",
       "      <th>Status</th>\n",
       "      <th>Request_timestamp</th>\n",
       "      <th>Drop_timestamp</th>\n",
       "      <th>Drop_date</th>\n",
       "      <th>Request_date</th>\n",
       "      <th>Drop_hour</th>\n",
       "      <th>Request_hour</th>\n",
       "      <th>Trip_time</th>\n",
       "      <th>Time_of_day</th>\n",
       "    </tr>\n",
       "  </thead>\n",
       "  <tbody>\n",
       "    <tr>\n",
       "      <th>0</th>\n",
       "      <td>619</td>\n",
       "      <td>Airport</td>\n",
       "      <td>1</td>\n",
       "      <td>Trip Completed</td>\n",
       "      <td>2016-07-11 11:51:00</td>\n",
       "      <td>2016-07-11 13:00:00</td>\n",
       "      <td>2016-07-11</td>\n",
       "      <td>2016-07-11</td>\n",
       "      <td>13.0</td>\n",
       "      <td>11</td>\n",
       "      <td>1.0</td>\n",
       "      <td>Day</td>\n",
       "    </tr>\n",
       "    <tr>\n",
       "      <th>1</th>\n",
       "      <td>867</td>\n",
       "      <td>Airport</td>\n",
       "      <td>1</td>\n",
       "      <td>Trip Completed</td>\n",
       "      <td>2016-07-11 17:57:00</td>\n",
       "      <td>2016-07-11 18:47:00</td>\n",
       "      <td>2016-07-11</td>\n",
       "      <td>2016-07-11</td>\n",
       "      <td>18.0</td>\n",
       "      <td>17</td>\n",
       "      <td>0.0</td>\n",
       "      <td>Evening</td>\n",
       "    </tr>\n",
       "    <tr>\n",
       "      <th>2</th>\n",
       "      <td>1807</td>\n",
       "      <td>City</td>\n",
       "      <td>1</td>\n",
       "      <td>Trip Completed</td>\n",
       "      <td>2016-07-12 09:17:00</td>\n",
       "      <td>2016-07-12 09:58:00</td>\n",
       "      <td>2016-07-12</td>\n",
       "      <td>2016-07-12</td>\n",
       "      <td>9.0</td>\n",
       "      <td>9</td>\n",
       "      <td>0.0</td>\n",
       "      <td>Morning</td>\n",
       "    </tr>\n",
       "    <tr>\n",
       "      <th>3</th>\n",
       "      <td>2532</td>\n",
       "      <td>Airport</td>\n",
       "      <td>1</td>\n",
       "      <td>Trip Completed</td>\n",
       "      <td>2016-07-12 21:08:00</td>\n",
       "      <td>2016-07-12 22:03:00</td>\n",
       "      <td>2016-07-12</td>\n",
       "      <td>2016-07-12</td>\n",
       "      <td>22.0</td>\n",
       "      <td>21</td>\n",
       "      <td>0.0</td>\n",
       "      <td>Night</td>\n",
       "    </tr>\n",
       "    <tr>\n",
       "      <th>4</th>\n",
       "      <td>3112</td>\n",
       "      <td>City</td>\n",
       "      <td>1</td>\n",
       "      <td>Trip Completed</td>\n",
       "      <td>2016-07-13 08:33:16</td>\n",
       "      <td>2016-07-13 09:25:47</td>\n",
       "      <td>2016-07-13</td>\n",
       "      <td>2016-07-13</td>\n",
       "      <td>9.0</td>\n",
       "      <td>8</td>\n",
       "      <td>0.0</td>\n",
       "      <td>Morning</td>\n",
       "    </tr>\n",
       "  </tbody>\n",
       "</table>\n",
       "</div>"
      ],
      "text/plain": [
       "  Request_id Pickup_point Driver_id          Status   Request_timestamp  \\\n",
       "0        619      Airport         1  Trip Completed 2016-07-11 11:51:00   \n",
       "1        867      Airport         1  Trip Completed 2016-07-11 17:57:00   \n",
       "2       1807         City         1  Trip Completed 2016-07-12 09:17:00   \n",
       "3       2532      Airport         1  Trip Completed 2016-07-12 21:08:00   \n",
       "4       3112         City         1  Trip Completed 2016-07-13 08:33:16   \n",
       "\n",
       "       Drop_timestamp   Drop_date Request_date  Drop_hour  Request_hour  \\\n",
       "0 2016-07-11 13:00:00  2016-07-11   2016-07-11       13.0            11   \n",
       "1 2016-07-11 18:47:00  2016-07-11   2016-07-11       18.0            17   \n",
       "2 2016-07-12 09:58:00  2016-07-12   2016-07-12        9.0             9   \n",
       "3 2016-07-12 22:03:00  2016-07-12   2016-07-12       22.0            21   \n",
       "4 2016-07-13 09:25:47  2016-07-13   2016-07-13        9.0             8   \n",
       "\n",
       "   Trip_time Time_of_day  \n",
       "0        1.0         Day  \n",
       "1        0.0     Evening  \n",
       "2        0.0     Morning  \n",
       "3        0.0       Night  \n",
       "4        0.0     Morning  "
      ]
     },
     "execution_count": 302,
     "metadata": {},
     "output_type": "execute_result"
    }
   ],
   "source": [
    "uber_df.head()\n"
   ]
  },
  {
   "cell_type": "code",
   "execution_count": 303,
   "metadata": {},
   "outputs": [
    {
     "data": {
      "text/plain": [
       "Text(0.5,1,'Count of cabs requested at different dates')"
      ]
     },
     "execution_count": 303,
     "metadata": {},
     "output_type": "execute_result"
    },
    {
     "data": {
      "image/png": "[encoded data removed]",
      "text/plain": [
       "<Figure size 432x288 with 1 Axes>"
      ]
     },
     "metadata": {
      "needs_background": "light"
     },
     "output_type": "display_data"
    }
   ],
   "source": [
    "# plot for the distribution of cab requests over the dates.\n",
    "uber_df.Request_date.value_counts().plot.bar()\n",
    "\n",
    "# Inference : It can be seen that the number of cabs requested each day is approximately the same.\n",
    "#             So, the average number of cabs requested each day can be taken as an average of below data i.e.., 1349 trips per day.\n",
    "uber_df.groupby(['Request_date']).size().mean()\n",
    "plt.xlabel(\"Date\")\n",
    "plt.ylabel(\"Number of cabs requested\")\n",
    "plt.title(\"Count of cabs requested at different dates\")"
   ]
  },
  {
   "cell_type": "code",
   "execution_count": 304,
   "metadata": {},
   "outputs": [
    {
     "data": {
      "text/plain": [
       "Text(0.5,1,'Demand of Cabs at the Airport')"
      ]
     },
     "execution_count": 304,
     "metadata": {},
     "output_type": "execute_result"
    },
    {
     "data": {
      "image/png": "[encoded data removed]",
      "text/plain": [
       "<Figure size 432x288 with 1 Axes>"
      ]
     },
     "metadata": {
      "needs_background": "light"
     },
     "output_type": "display_data"
    }
   ],
   "source": [
    "# Now, analysisng demand at the airport, that is the sum of trips completed, cancelled and unavailability of cars.\n",
    "#The analysis will be done based on time of the day.\n",
    "\n",
    "df_AD=uber_df[uber_df.Pickup_point==\"Airport\"].groupby(['Time_of_day']).count().Status\n",
    "df_AD.plot.bar()\n",
    "\n",
    "plt.xlabel(\"Time Of Day\")\n",
    "plt.ylabel(\"Demand of Cabs\")\n",
    "plt.title(\"Demand of Cabs at the Airport\")\n",
    "\n",
    "#Inference : It can be seen that the demand of cabs at the airport is the highest in the evening time."
   ]
  },
  {
   "cell_type": "code",
   "execution_count": 305,
   "metadata": {},
   "outputs": [
    {
     "data": {
      "text/plain": [
       "Text(0.5,1,'Supply of Cabs at the Airport')"
      ]
     },
     "execution_count": 305,
     "metadata": {},
     "output_type": "execute_result"
    },
    {
     "data": {
      "image/png": "[encoded data removed]",
      "text/plain": [
       "<Figure size 432x288 with 1 Axes>"
      ]
     },
     "metadata": {
      "needs_background": "light"
     },
     "output_type": "display_data"
    }
   ],
   "source": [
    "# Now analysing the supply of cabs at the airport, which will be equivalent to number of trips completed as well as cancelled.\n",
    "df_AS=uber_df[(uber_df.Pickup_point==\"Airport\") & (uber_df['Status'] != 'No Cars Available')].groupby(['Time_of_day']).count().Status\n",
    "df_AS.plot.bar()\n",
    "plt.xlabel(\"Time Of Day\")\n",
    "plt.ylabel(\"Supply of Cabs\")\n",
    "plt.title(\"Supply of Cabs at the Airport\")\n",
    "\n",
    "# The numbers here would not matter until and unless we calculate the gap between the demand and supply at the airport by \n",
    "# the time of day. "
   ]
  },
  {
   "cell_type": "code",
   "execution_count": 306,
   "metadata": {},
   "outputs": [
    {
     "data": {
      "text/plain": [
       "Text(0.5,1,'Demand-Supply  Gap of Cabs at the Airport')"
      ]
     },
     "execution_count": 306,
     "metadata": {},
     "output_type": "execute_result"
    },
    {
     "data": {
      "image/png": "[encoded data removed]",
      "text/plain": [
       "<Figure size 432x288 with 1 Axes>"
      ]
     },
     "metadata": {
      "needs_background": "light"
     },
     "output_type": "display_data"
    }
   ],
   "source": [
    "#Calculating the gap between demand and supply at the airport.\n",
    "(df_AD- df_AS).plot.bar()\n",
    "plt.xlabel(\"Time Of Day\")\n",
    "plt.ylabel(\"Demand-Supply Gap\")\n",
    "plt.title(\"Demand-Supply  Gap of Cabs at the Airport\")\n",
    "# Inference: As expected the demand-supply gap at the airport is the greatest in the evening. \n",
    "#            Uber should increase the number of cars available at the airport at first in the evening times \n",
    "#            and further in the night time.\n"
   ]
  },
  {
   "cell_type": "code",
   "execution_count": 312,
   "metadata": {},
   "outputs": [
    {
     "data": {
      "text/plain": [
       "Text(0.5,1,'Breakdown of number of cabs on the basis of their Status at the Airport')"
      ]
     },
     "execution_count": 312,
     "metadata": {},
     "output_type": "execute_result"
    },
    {
     "data": {
      "image/png": "[encoded data removed]",
      "text/plain": [
       "<Figure size 432x288 with 1 Axes>"
      ]
     },
     "metadata": {
      "needs_background": "light"
     },
     "output_type": "display_data"
    }
   ],
   "source": [
    "#Further analysing the evening rush in the airport; Probable Reasons and optimum suggestions to tackle the problem at hand.\n",
    "#Analysisng the reason for high demand at the airport.\n",
    "# A total of 1457 cabs are in demand in the evening time at the airport. \n",
    "# Calculating the breakup based on the status.\n",
    "((uber_df[(uber_df.Pickup_point==\"Airport\") & (uber_df.Time_of_day=='Evening')]).groupby(['Status']).size()).plot.bar()\n",
    "\n",
    "plt.xlabel(\"Status\")\n",
    "plt.ylabel(\"Number of Cabs\")\n",
    "plt.title(\"Breakdown of number of cabs on the basis of their Status at the Airport\")\n",
    "\n",
    "# Inference : Below graph shows that the biggest issue to be addressed at the airport is that of non-availability of Cars \n",
    "#             in the evening time."
   ]
  },
  {
   "cell_type": "code",
   "execution_count": 308,
   "metadata": {},
   "outputs": [
    {
     "data": {
      "text/plain": [
       "Text(0.5,1,'Demand of Cabs at the City')"
      ]
     },
     "execution_count": 308,
     "metadata": {},
     "output_type": "execute_result"
    },
    {
     "data": {
      "image/png": "[encoded data removed]",
      "text/plain": [
       "<Figure size 432x288 with 1 Axes>"
      ]
     },
     "metadata": {
      "needs_background": "light"
     },
     "output_type": "display_data"
    }
   ],
   "source": [
    "# Similar analysis for Pickup_point as City. Calculating Demand and Supply Gap in the City Area.\n",
    "df_CD=uber_df[uber_df.Pickup_point==\"City\"].groupby(['Time_of_day']).count().Status\n",
    "df_CD.plot.bar()\n",
    "\n",
    "plt.xlabel(\"Time Of Day\")\n",
    "plt.ylabel(\"Demand of Cabs\")\n",
    "plt.title(\"Demand of Cabs at the City\")\n",
    "# Inference : We can see from the below graph that the demand of cabs in the city area is the highest in the morning times.\n",
    "#             For further insights, we will calculate supply of cabs in the city area."
   ]
  },
  {
   "cell_type": "code",
   "execution_count": 313,
   "metadata": {},
   "outputs": [
    {
     "data": {
      "text/plain": [
       "Text(0.5,1,'Supply of Cabs at the City')"
      ]
     },
     "execution_count": 313,
     "metadata": {},
     "output_type": "execute_result"
    },
    {
     "data": {
      "image/png": "[encoded data removed]",
      "text/plain": [
       "<Figure size 432x288 with 1 Axes>"
      ]
     },
     "metadata": {
      "needs_background": "light"
     },
     "output_type": "display_data"
    }
   ],
   "source": [
    "# Now analysing the supply of cabs at the city, which will be equivalent to number of trips completed as well as cancelled.\n",
    "df_CS=uber_df[(uber_df.Pickup_point==\"City\") & (uber_df['Status'] != 'No Cars Available')].groupby(['Time_of_day']).count().Status\n",
    "df_CS.plot.bar()\n",
    "plt.xlabel(\"Time Of Day\")\n",
    "plt.ylabel(\"Supply of Cabs\")\n",
    "plt.title(\"Supply of Cabs at the City\")\n",
    "\n",
    "# Here we see that the supply of cabs is high in the morning in the city area. Therefore, the situation is not similar to Airport.\n",
    "# Further calculating the gap between demand and supply, for more insights."
   ]
  },
  {
   "cell_type": "code",
   "execution_count": 314,
   "metadata": {},
   "outputs": [
    {
     "data": {
      "text/plain": [
       "Text(0.5,1,'Demand-Supply Gap of Cabs at the City')"
      ]
     },
     "execution_count": 314,
     "metadata": {},
     "output_type": "execute_result"
    },
    {
     "data": {
      "image/png": "[encoded data removed]",
      "text/plain": [
       "<Figure size 432x288 with 1 Axes>"
      ]
     },
     "metadata": {
      "needs_background": "light"
     },
     "output_type": "display_data"
    }
   ],
   "source": [
    "#Calculating the gap between demand and supply at the airport.\n",
    "(df_CD- df_CS).plot.bar()\n",
    "plt.xlabel(\"Time Of Day\")\n",
    "plt.ylabel(\"Demand-Supply Gap\")\n",
    "plt.title(\"Demand-Supply Gap of Cabs at the City\")\n",
    "# Inference : Though we see that the demand and supply both at the city is high in the morning, we also see the gap \n",
    "#             between them is also the highest in the morning. "
   ]
  },
  {
   "cell_type": "code",
   "execution_count": 315,
   "metadata": {},
   "outputs": [
    {
     "data": {
      "text/plain": [
       "Text(0.5,1,'Breakdown of number of cabs on the basis of their Status at the Morning Time')"
      ]
     },
     "execution_count": 315,
     "metadata": {},
     "output_type": "execute_result"
    },
    {
     "data": {
      "image/png": "[encoded data removed]",
      "text/plain": [
       "<Figure size 432x288 with 1 Axes>"
      ]
     },
     "metadata": {
      "needs_background": "light"
     },
     "output_type": "display_data"
    }
   ],
   "source": [
    "#Further analysing the high demand-supply gap at the city in the morning and day-time to find the root cause.\n",
    "((uber_df[(uber_df.Pickup_point==\"City\") & (uber_df.Time_of_day=='Morning')]).groupby(['Status']).size()).plot.bar()\n",
    "\n",
    "plt.xlabel(\"Status\")\n",
    "plt.ylabel(\"Number of Cabs\")\n",
    "plt.title(\"Breakdown of number of cabs on the basis of their Status at the Morning Time\")"
   ]
  },
  {
   "cell_type": "code",
   "execution_count": 317,
   "metadata": {},
   "outputs": [
    {
     "data": {
      "text/plain": [
       "Text(0.5,1,'Breakdown of number of cabs on the basis of their Status at Daytime')"
      ]
     },
     "execution_count": 317,
     "metadata": {},
     "output_type": "execute_result"
    },
    {
     "data": {
      "image/png": "[encoded data removed]",
      "text/plain": [
       "<Figure size 432x288 with 1 Axes>"
      ]
     },
     "metadata": {
      "needs_background": "light"
     },
     "output_type": "display_data"
    }
   ],
   "source": [
    "((uber_df[(uber_df.Pickup_point==\"City\") & (uber_df.Time_of_day=='Day')]).groupby(['Status']).size()).plot.bar()\n",
    "\n",
    "plt.xlabel(\"Status\")\n",
    "plt.ylabel(\"Number of Cabs\")\n",
    "plt.title(\"Breakdown of number of cabs on the basis of their Status at Daytime\")\n",
    "\n",
    "# Inference : The high demand-supply gap in the city area is because of high number of trip cancellations.\n",
    "#             The drivers might be cancelling trips from city to airport, because of high wait time at the airport for next\n",
    "#             trip. Also the data for day-time is not as significant as the number of cancellations is less."
   ]
  },
  {
   "cell_type": "markdown",
   "metadata": {},
   "source": [
    "###### Final Conclusion:\n",
    "1. Demand-Supply Gap--\n",
    "        1. Significant Demand-Supply Gap for both pickup points\n",
    "        2. The Demand-Supply Gap at the airport is greater than at the city area.\n",
    "2. Reasons--\n",
    "        1. At airport, major cause is non-availability of cabs\n",
    "        2. At city, major cause is high number of car cancellations; May be because of high wait time at the airport for\n",
    "        the next trip.\n",
    " 3. Recommendation--\n",
    "        1. Reach out to more number of drivers and strengthen the Uber network to increase availability of cars both at\n",
    "        the airport and city\n",
    "        2. Incentives and perks for drivers who wait for long times for trips or serve at odd times, so that number of\n",
    "        trips cancelled by them is less.\n",
    "        3. Add a tipping option like being done by a few food delivery apps. Will act as a motivation for the drivers  .\n",
    "        4. Rewarding drivers on the basis of their ratings.\n",
    "        5. Partnerships with various tech/business parks; employees can pool together for cost-efficient and safe\n",
    "        commute.\n"
   ]
  }
 ],
 "metadata": {
  "kernelspec": {
   "display_name": "Python 3",
   "language": "python",
   "name": "python3"
  },
  "language_info": {
   "codemirror_mode": {
    "name": "ipython",
    "version": 3
   },
   "file_extension": ".py",
   "mimetype": "text/x-python",
   "name": "python",
   "nbconvert_exporter": "python",
   "pygments_lexer": "ipython3",
   "version": "3.7.0"
  }
 },
 "nbformat": 4,
 "nbformat_minor": 2
}
